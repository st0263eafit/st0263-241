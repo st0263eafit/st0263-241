{
  "cells": [
    {
      "cell_type": "markdown",
      "metadata": {
        "id": "YLEbhIgF1CvM"
      },
      "source": [
        "# Ejemplo procesamiento con Spark SQL\n",
        "# Referencia: https://www.oreilly.com/library/view/learning-spark-2nd/9781492050032/ch04.html\n",
        "# Datos: https://github.com/databricks/LearningSparkV2/tree/master/databricks-datasets/learning-spark-v2/flights"
      ]
    },
    {
      "cell_type": "code",
      "execution_count": 1,
      "metadata": {
        "colab": {
          "base_uri": "https://localhost:8080/"
        },
        "id": "Q3S_iNkC1CvQ",
        "outputId": "2bbeb33c-00b1-4cc0-9538-cc41ce8e615e"
      },
      "outputs": [
        {
          "output_type": "stream",
          "name": "stdout",
          "text": [
            "Mounted at /content/gdrive\n"
          ]
        }
      ],
      "source": [
        "#configuración en google colab de spark y pyspark\n",
        "from google.colab import drive\n",
        "drive.mount('/content/gdrive')"
      ]
    },
    {
      "cell_type": "code",
      "execution_count": 2,
      "metadata": {
        "id": "FwJ48Esr1CvS"
      },
      "outputs": [],
      "source": [
        "#instalar java y spark\n",
        "!apt-get install openjdk-11-jdk-headless -qq > /dev/null\n",
        "!wget -q https://downloads.apache.org/spark/spark-3.5.1/spark-3.5.1-bin-hadoop3.tgz\n",
        "!tar xf spark-3.5.1-bin-hadoop3.tgz\n",
        "!pip install -q findspark"
      ]
    },
    {
      "cell_type": "code",
      "execution_count": 3,
      "metadata": {
        "id": "zZA3GUTG1CvT"
      },
      "outputs": [],
      "source": [
        "import os\n",
        "os.environ[\"JAVA_HOME\"] = \"/usr/lib/jvm/java-11-openjdk-amd64\"\n",
        "os.environ[\"SPARK_HOME\"] = \"/content/spark-3.5.1-bin-hadoop3\""
      ]
    },
    {
      "cell_type": "code",
      "execution_count": 4,
      "metadata": {
        "id": "LMfVNk-G1CvT"
      },
      "outputs": [],
      "source": [
        "import findspark\n",
        "findspark.init()\n",
        "from pyspark.sql import SparkSession\n",
        "spark = SparkSession.builder.master(\"local[*]\").getOrCreate()\n",
        "sc = spark.sparkContext"
      ]
    },
    {
      "cell_type": "code",
      "execution_count": 5,
      "metadata": {
        "colab": {
          "base_uri": "https://localhost:8080/",
          "height": 219
        },
        "id": "nlX-_qrh1CvU",
        "outputId": "ef4ed518-6fee-407b-d95a-5a1d4c152ad8"
      },
      "outputs": [
        {
          "output_type": "execute_result",
          "data": {
            "text/plain": [
              "<pyspark.sql.session.SparkSession at 0x7fcb9fd82690>"
            ],
            "text/html": [
              "\n",
              "            <div>\n",
              "                <p><b>SparkSession - in-memory</b></p>\n",
              "                \n",
              "        <div>\n",
              "            <p><b>SparkContext</b></p>\n",
              "\n",
              "            <p><a href=\"http://824eae7cc7db:4040\">Spark UI</a></p>\n",
              "\n",
              "            <dl>\n",
              "              <dt>Version</dt>\n",
              "                <dd><code>v3.3.1</code></dd>\n",
              "              <dt>Master</dt>\n",
              "                <dd><code>local[*]</code></dd>\n",
              "              <dt>AppName</dt>\n",
              "                <dd><code>pyspark-shell</code></dd>\n",
              "            </dl>\n",
              "        </div>\n",
              "        \n",
              "            </div>\n",
              "        "
            ]
          },
          "metadata": {},
          "execution_count": 5
        }
      ],
      "source": [
        "spark"
      ]
    },
    {
      "cell_type": "code",
      "execution_count": 6,
      "metadata": {
        "colab": {
          "base_uri": "https://localhost:8080/",
          "height": 196
        },
        "id": "bN5OS-Gs1CvU",
        "outputId": "9cf747fe-a1fe-4900-c706-cd7504003a8b"
      },
      "outputs": [
        {
          "output_type": "execute_result",
          "data": {
            "text/plain": [
              "<SparkContext master=local[*] appName=pyspark-shell>"
            ],
            "text/html": [
              "\n",
              "        <div>\n",
              "            <p><b>SparkContext</b></p>\n",
              "\n",
              "            <p><a href=\"http://824eae7cc7db:4040\">Spark UI</a></p>\n",
              "\n",
              "            <dl>\n",
              "              <dt>Version</dt>\n",
              "                <dd><code>v3.3.1</code></dd>\n",
              "              <dt>Master</dt>\n",
              "                <dd><code>local[*]</code></dd>\n",
              "              <dt>AppName</dt>\n",
              "                <dd><code>pyspark-shell</code></dd>\n",
              "            </dl>\n",
              "        </div>\n",
              "        "
            ]
          },
          "metadata": {},
          "execution_count": 6
        }
      ],
      "source": [
        "sc"
      ]
    },
    {
      "cell_type": "code",
      "execution_count": 7,
      "metadata": {
        "id": "thRNZjhM1CvV"
      },
      "outputs": [],
      "source": [
        "csvFile=\"gdrive/MyDrive/st0263-241/bigdata/datasets/flights/departuredelays.csv\""
      ]
    },
    {
      "cell_type": "code",
      "execution_count": 8,
      "metadata": {
        "id": "OjO6PaOh1CvV"
      },
      "outputs": [],
      "source": [
        "# Load csv Dataset \n",
        "#df=spark.read.csv('s3://<bucket/dir>/sample_data.csv',inferSchema=True,header=True)\n",
        "df=spark.read.csv(csvFile,inferSchema=True,header=True)"
      ]
    },
    {
      "cell_type": "code",
      "execution_count": 9,
      "metadata": {
        "colab": {
          "base_uri": "https://localhost:8080/"
        },
        "id": "gmTR7seR1CvW",
        "outputId": "dfaf371c-860a-40e2-88fb-369b92b8d0e8"
      },
      "outputs": [
        {
          "output_type": "execute_result",
          "data": {
            "text/plain": [
              "['date', 'delay', 'distance', 'origin', 'destination']"
            ]
          },
          "metadata": {},
          "execution_count": 9
        }
      ],
      "source": [
        "#columns of dataframe\n",
        "df.columns"
      ]
    },
    {
      "cell_type": "code",
      "execution_count": 10,
      "metadata": {
        "colab": {
          "base_uri": "https://localhost:8080/"
        },
        "id": "WPQhFwCn1CvW",
        "outputId": "054e93d0-725e-4b18-b664-ab372d832d38"
      },
      "outputs": [
        {
          "output_type": "execute_result",
          "data": {
            "text/plain": [
              "5"
            ]
          },
          "metadata": {},
          "execution_count": 10
        }
      ],
      "source": [
        "#check number of columns\n",
        "len(df.columns)"
      ]
    },
    {
      "cell_type": "code",
      "execution_count": 11,
      "metadata": {
        "colab": {
          "base_uri": "https://localhost:8080/"
        },
        "id": "A_u-YhJZ1CvX",
        "outputId": "f16ee5fb-c31d-491a-a6dd-5fc32b6b1086"
      },
      "outputs": [
        {
          "output_type": "execute_result",
          "data": {
            "text/plain": [
              "1391578"
            ]
          },
          "metadata": {},
          "execution_count": 11
        }
      ],
      "source": [
        "#number of records in dataframe\n",
        "df.count()"
      ]
    },
    {
      "cell_type": "code",
      "execution_count": 12,
      "metadata": {
        "colab": {
          "base_uri": "https://localhost:8080/"
        },
        "id": "-AZxDn831CvX",
        "outputId": "e27c1cd8-aedc-4db7-81db-4f0e26652e97"
      },
      "outputs": [
        {
          "output_type": "stream",
          "name": "stdout",
          "text": [
            "(1391578, 5)\n"
          ]
        }
      ],
      "source": [
        "#shape of dataset\n",
        "print((df.count(),len(df.columns)))"
      ]
    },
    {
      "cell_type": "code",
      "execution_count": 13,
      "metadata": {
        "colab": {
          "base_uri": "https://localhost:8080/"
        },
        "id": "vOjAjXdV1CvX",
        "outputId": "f2b651a6-4a79-41de-ca87-162109c07fa6"
      },
      "outputs": [
        {
          "output_type": "stream",
          "name": "stdout",
          "text": [
            "root\n",
            " |-- date: integer (nullable = true)\n",
            " |-- delay: integer (nullable = true)\n",
            " |-- distance: integer (nullable = true)\n",
            " |-- origin: string (nullable = true)\n",
            " |-- destination: string (nullable = true)\n",
            "\n"
          ]
        }
      ],
      "source": [
        "#printSchema\n",
        "df.printSchema()"
      ]
    },
    {
      "cell_type": "code",
      "execution_count": 14,
      "metadata": {
        "colab": {
          "base_uri": "https://localhost:8080/"
        },
        "id": "jCWfOBUQ1CvX",
        "outputId": "e66aa373-c816-4d42-e5b7-fc69caf7cb7b"
      },
      "outputs": [
        {
          "output_type": "stream",
          "name": "stdout",
          "text": [
            "+-------+-----+--------+------+-----------+\n",
            "|   date|delay|distance|origin|destination|\n",
            "+-------+-----+--------+------+-----------+\n",
            "|1011245|    6|     602|   ABE|        ATL|\n",
            "|1020600|   -8|     369|   ABE|        DTW|\n",
            "|1021245|   -2|     602|   ABE|        ATL|\n",
            "|1020605|   -4|     602|   ABE|        ATL|\n",
            "|1031245|   -4|     602|   ABE|        ATL|\n",
            "+-------+-----+--------+------+-----------+\n",
            "only showing top 5 rows\n",
            "\n"
          ]
        }
      ],
      "source": [
        "#fisrt few rows of dataframe\n",
        "df.show(5)"
      ]
    },
    {
      "cell_type": "code",
      "execution_count": 15,
      "metadata": {
        "colab": {
          "base_uri": "https://localhost:8080/"
        },
        "id": "He6x1ugV1CvY",
        "outputId": "c3f21bbf-30c4-4b0c-cf21-f87ba8ecb8f8"
      },
      "outputs": [
        {
          "output_type": "stream",
          "name": "stdout",
          "text": [
            "+-------+-----------------+------------------+-----------------+-------+-----------+\n",
            "|summary|             date|             delay|         distance| origin|destination|\n",
            "+-------+-----------------+------------------+-----------------+-------+-----------+\n",
            "|  count|          1391578|           1391578|          1391578|1391578|    1391578|\n",
            "|   mean|2180446.584000322|12.079802928761449|690.5508264718184|   null|       null|\n",
            "| stddev|838031.1536740534| 38.80773374985635|513.6628153663347|   null|       null|\n",
            "|    min|          1010005|              -112|               21|    ABE|        ABE|\n",
            "|    max|          3312359|              1642|             4330|    YUM|        YUM|\n",
            "+-------+-----------------+------------------+-----------------+-------+-----------+\n",
            "\n"
          ]
        }
      ],
      "source": [
        "#info about dataframe\n",
        "df.describe().show()"
      ]
    },
    {
      "cell_type": "code",
      "source": [
        "df.createOrReplaceTempView(\"us_delay_flights_tbl\")"
      ],
      "metadata": {
        "id": "KmKmU5R417vT"
      },
      "execution_count": 16,
      "outputs": []
    },
    {
      "cell_type": "code",
      "source": [
        "# First, we’ll find all flights whose distance is greater than 1,000 miles:\n",
        "spark.sql(\"\"\"SELECT distance, origin, destination \n",
        "FROM us_delay_flights_tbl WHERE distance > 1000 \n",
        "ORDER BY distance DESC\"\"\").show(10)"
      ],
      "metadata": {
        "colab": {
          "base_uri": "https://localhost:8080/"
        },
        "id": "SI0lbGZv2vfe",
        "outputId": "7ffbca46-a323-4269-ffd6-bf9540ec9be1"
      },
      "execution_count": 17,
      "outputs": [
        {
          "output_type": "stream",
          "name": "stdout",
          "text": [
            "+--------+------+-----------+\n",
            "|distance|origin|destination|\n",
            "+--------+------+-----------+\n",
            "|    4330|   HNL|        JFK|\n",
            "|    4330|   HNL|        JFK|\n",
            "|    4330|   HNL|        JFK|\n",
            "|    4330|   HNL|        JFK|\n",
            "|    4330|   HNL|        JFK|\n",
            "|    4330|   HNL|        JFK|\n",
            "|    4330|   HNL|        JFK|\n",
            "|    4330|   HNL|        JFK|\n",
            "|    4330|   HNL|        JFK|\n",
            "|    4330|   HNL|        JFK|\n",
            "+--------+------+-----------+\n",
            "only showing top 10 rows\n",
            "\n"
          ]
        }
      ]
    },
    {
      "cell_type": "code",
      "source": [
        "# Next, we’ll find all flights between San Francisco (SFO) and Chicago (ORD) with at least a two-hour delay:\n",
        "spark.sql(\"\"\"SELECT date, delay, origin, destination \n",
        "FROM us_delay_flights_tbl \n",
        "WHERE delay > 120 AND ORIGIN = 'SFO' AND DESTINATION = 'ORD' \n",
        "ORDER by delay DESC\"\"\").show(10)"
      ],
      "metadata": {
        "colab": {
          "base_uri": "https://localhost:8080/"
        },
        "id": "XWAEtRbW2znw",
        "outputId": "7f74ce0f-4f1f-495e-9ad3-d6e41172303d"
      },
      "execution_count": 18,
      "outputs": [
        {
          "output_type": "stream",
          "name": "stdout",
          "text": [
            "+-------+-----+------+-----------+\n",
            "|   date|delay|origin|destination|\n",
            "+-------+-----+------+-----------+\n",
            "|2190925| 1638|   SFO|        ORD|\n",
            "|1031755|  396|   SFO|        ORD|\n",
            "|1022330|  326|   SFO|        ORD|\n",
            "|1051205|  320|   SFO|        ORD|\n",
            "|1190925|  297|   SFO|        ORD|\n",
            "|2171115|  296|   SFO|        ORD|\n",
            "|1071040|  279|   SFO|        ORD|\n",
            "|1051550|  274|   SFO|        ORD|\n",
            "|3120730|  266|   SFO|        ORD|\n",
            "|1261104|  258|   SFO|        ORD|\n",
            "+-------+-----+------+-----------+\n",
            "only showing top 10 rows\n",
            "\n"
          ]
        }
      ]
    },
    {
      "cell_type": "code",
      "source": [
        "# we want to label all US flights, regardless of origin and destination, \n",
        "# with an indication of the delays they experienced: Very Long Delays (> 6 hours), \n",
        "# Long Delays (2–6 hours), etc. We’ll add these human-readable labels \n",
        "# in a new column called Flight_Delays:\n",
        "spark.sql(\"\"\"SELECT delay, origin, destination, \n",
        "              CASE\n",
        "                  WHEN delay > 360 THEN 'Very Long Delays'\n",
        "                  WHEN delay >= 120 AND delay <= 360 THEN 'Long Delays'\n",
        "                  WHEN delay >= 60 AND delay < 120 THEN 'Short Delays'\n",
        "                  WHEN delay > 0 and delay < 60 THEN 'Tolerable Delays'\n",
        "                  WHEN delay = 0 THEN 'No Delays'\n",
        "                  ELSE 'Early'\n",
        "               END AS Flight_Delays\n",
        "               FROM us_delay_flights_tbl\n",
        "               ORDER BY origin, delay DESC\"\"\").show(10)"
      ],
      "metadata": {
        "colab": {
          "base_uri": "https://localhost:8080/"
        },
        "id": "fS9xrIGu3LcY",
        "outputId": "cccdf31e-9c3f-45bc-f771-fe8861be49b7"
      },
      "execution_count": 19,
      "outputs": [
        {
          "output_type": "stream",
          "name": "stdout",
          "text": [
            "+-----+------+-----------+-------------+\n",
            "|delay|origin|destination|Flight_Delays|\n",
            "+-----+------+-----------+-------------+\n",
            "|  333|   ABE|        ATL|  Long Delays|\n",
            "|  305|   ABE|        ATL|  Long Delays|\n",
            "|  275|   ABE|        ATL|  Long Delays|\n",
            "|  257|   ABE|        ATL|  Long Delays|\n",
            "|  247|   ABE|        ATL|  Long Delays|\n",
            "|  247|   ABE|        DTW|  Long Delays|\n",
            "|  219|   ABE|        ORD|  Long Delays|\n",
            "|  211|   ABE|        ATL|  Long Delays|\n",
            "|  197|   ABE|        DTW|  Long Delays|\n",
            "|  192|   ABE|        ORD|  Long Delays|\n",
            "+-----+------+-----------+-------------+\n",
            "only showing top 10 rows\n",
            "\n"
          ]
        }
      ]
    },
    {
      "cell_type": "code",
      "source": [
        "# ejecute los otros queries de la referencia citada al comienzo"
      ],
      "metadata": {
        "id": "p0r87DUD3gFB"
      },
      "execution_count": null,
      "outputs": []
    }
  ],
  "metadata": {
    "kernelspec": {
      "display_name": "Python 3.10.8 64-bit",
      "language": "python",
      "name": "python3"
    },
    "language_info": {
      "codemirror_mode": {
        "name": "ipython",
        "version": 3
      },
      "file_extension": ".py",
      "mimetype": "text/x-python",
      "name": "python",
      "nbconvert_exporter": "python",
      "pygments_lexer": "ipython3",
      "version": "3.10.8"
    },
    "vscode": {
      "interpreter": {
        "hash": "aee8b7b246df8f9039afb4144a1f6fd8d2ca17a180786b69acc140d282b71a49"
      }
    },
    "colab": {
      "provenance": []
    }
  },
  "nbformat": 4,
  "nbformat_minor": 0
}